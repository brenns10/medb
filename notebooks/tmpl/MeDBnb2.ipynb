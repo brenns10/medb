{
 "cells": [
  {
   "cell_type": "markdown",
   "id": "2cb1d0d7-e5ec-4c2e-beb8-f46705536c1b",
   "metadata": {},
   "source": [
    "# Notebook Title"
   ]
  },
  {
   "cell_type": "markdown",
   "id": "64a67f13-21ba-4ab6-a9c5-758b38cf4679",
   "metadata": {},
   "source": [
    "**How it works:** This notebook reads from the current environment's Sqlite database and allows you to query against it. This means you should probably ensure you're using the sandbox, and maybe take a fresh copy of the current database state on the \"production\" host.\n",
    "\n",
    "Feel free to delete this cell when you're ready, and be sure to create a good title and description at the top."
   ]
  },
  {
   "cell_type": "code",
   "execution_count": null,
   "id": "7c33183f-d859-4235-b390-221ae09d2a20",
   "metadata": {
    "tags": []
   },
   "outputs": [],
   "source": [
    "%matplotlib widget\n",
    "\n",
    "import pandas as pd\n",
    "import matplotlib.pyplot as plt\n",
    "\n",
    "from medb.extensions import db\n",
    "from medb.app import create_app\n",
    "\n",
    "plt.style.use(\"ggplot\")"
   ]
  },
  {
   "cell_type": "code",
   "execution_count": null,
   "id": "d01d6caa-bfe9-4ca1-92fe-6cfe0422159e",
   "metadata": {},
   "outputs": [],
   "source": [
    "# Don't run this cell more than once!\n",
    "create_app().app_context().__enter__()"
   ]
  },
  {
   "cell_type": "markdown",
   "id": "6a945c99-17a0-4da4-928c-47b662d243aa",
   "metadata": {},
   "source": [
    "## Load Data"
   ]
  },
  {
   "cell_type": "code",
   "execution_count": null,
   "id": "41d1ee89-c401-4e69-9708-7d8fcf884d95",
   "metadata": {},
   "outputs": [],
   "source": [
    "df = pd.read_sql(\n",
    "    None,  # INSERT YOUR SQLA QUERY HERE\n",
    "    db.session.bind,\n",
    ")"
   ]
  }
 ],
 "metadata": {
  "kernelspec": {
   "display_name": "Python 3 (ipykernel)",
   "language": "python",
   "name": "python3"
  },
  "language_info": {
   "codemirror_mode": {
    "name": "ipython",
    "version": 3
   },
   "file_extension": ".py",
   "mimetype": "text/x-python",
   "name": "python",
   "nbconvert_exporter": "python",
   "pygments_lexer": "ipython3",
   "version": "3.10.6"
  }
 },
 "nbformat": 4,
 "nbformat_minor": 5
}
